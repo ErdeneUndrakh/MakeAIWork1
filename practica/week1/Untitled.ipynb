{
 "cells": [
  {
   "cell_type": "code",
   "execution_count": null,
   "id": "2493ff94-eff5-4043-a0b8-b6425c000f8b",
   "metadata": {},
   "outputs": [],
   "source": []
  }
 ],
 "metadata": {
  "kernelspec": {
   "display_name": "Python 3",
   "language": "python",
   "name": "python3"
  },
  "language_info": {
   "codemirror_mode": {
    "name": "ipython",
    "version": 3
   },
   "file_extension": ".py",
   "mimetype": "text/x-python",
   "name": "python",
   "nbconvert_exporter": "python",
   "pygments_lexer": "ipython3",
   "version": "3.10.10"
  },
  "vscode": {
   "interpreter": {
    "hash": "5524ec3bff7d9a4298fc1225fe16b06784fbdb5c666ce73eec5bc63413d66014"
   }
  }
 },
 "nbformat": 4,
 "nbformat_minor": 5
}
