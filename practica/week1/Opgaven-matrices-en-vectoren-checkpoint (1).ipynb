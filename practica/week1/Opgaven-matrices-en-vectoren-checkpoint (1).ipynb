{
 "cells": [
  {
   "cell_type": "markdown",
   "id": "2ea724be",
   "metadata": {},
   "source": [
    "# Matrices en vectoren"
   ]
  },
  {
   "cell_type": "markdown",
   "id": "18595eca",
   "metadata": {},
   "source": [
    "Er zijn meerdere manieren om een matrix te representeren.\n",
    "\n",
    "Hier kiezen we voor het volgende datamodel:\n",
    "\n",
    "`matrix_2D :: {rows: int, cols: int, data: []}`\n",
    "\n",
    "Implementeer onderstaande opdrachten in Python."
   ]
  },
  {
   "cell_type": "markdown",
   "id": "42182308",
   "metadata": {},
   "source": [
    "## Vectoren"
   ]
  },
  {
   "cell_type": "markdown",
   "id": "db43ccb1",
   "metadata": {},
   "source": [
    "### 1. Een vector als rij*"
   ]
  },
  {
   "cell_type": "markdown",
   "id": "e9ac731a",
   "metadata": {},
   "source": [
    "Representeer de onderstaande vector in code:\n",
    "\n",
    "$$\n",
    "  \\begin{pmatrix}\n",
    "    1 & 2 & 3\n",
    "  \\end{pmatrix}\n",
    "$$"
   ]
  },
  {
   "cell_type": "code",
   "execution_count": 20,
   "id": "72c55633",
   "metadata": {},
   "outputs": [
    {
     "name": "stdout",
     "output_type": "stream",
     "text": [
      "{'rows': 1, 'cols': 3, 'data': [1, 2, 3]}\n",
      "rows:  1\n",
      "cols:  3\n",
      "1\n",
      "3\n",
      "[1, 2, 3]\n",
      "elements [1, 2, 3]\n",
      "3\n"
     ]
    }
   ],
   "source": [
    "\n",
    "\n",
    "# How many rows and colums does this vector have\n",
    " #This vector has a row and three columns.\n",
    "\n",
    "# Use the definition at the top to implement this vector:\n",
    "vec = { 'rows':1, 'cols':3, 'data': [1,2,3]}\n",
    "\n",
    "\n",
    "\n",
    "# vec = { 'rows':1, 'cols': 3, 'data': [1,2,3]}\n",
    "\n",
    "# Can you print its dimensions? (rows, cols)\n",
    "print(vec)\n",
    "type(vec)\n",
    "\n",
    "print(\"rows: \", vec['rows'])\n",
    "print(\"cols: \", vec['cols'])\n",
    "\n",
    "# ...\n",
    "for key, value in vec.items():\n",
    "    print(value)\n",
    "\n",
    "# Can you print the number of elements?\n",
    "\n",
    "# ...\n",
    "print(\"elements\", vec['data'])\n",
    "print(len(vec[\"data\"]))"
   ]
  },
  {
   "cell_type": "markdown",
   "id": "0abbc0ad",
   "metadata": {},
   "source": [
    "### 2. Een vector als kolom*"
   ]
  },
  {
   "cell_type": "markdown",
   "id": "ac4f647f",
   "metadata": {},
   "source": [
    "Representeer de onderstaande vector in code:\n",
    "\n",
    "$$\n",
    "  \\begin{pmatrix}\n",
    "    1 \\\\\n",
    "    2 \\\\\n",
    "    3\n",
    "  \\end{pmatrix}\n",
    "$$"
   ]
  },
  {
   "cell_type": "code",
   "execution_count": 23,
   "id": "f4f6bfc9",
   "metadata": {},
   "outputs": [
    {
     "name": "stdout",
     "output_type": "stream",
     "text": [
      "rows:  3\n",
      "cols:  1\n",
      "elements [1, 2, 3]\n",
      "3\n"
     ]
    }
   ],
   "source": [
    "# How many rows and colums does this vector have?\n",
    "\n",
    "# ...\n",
    "\n",
    "# Use the definition at the top to implement this vector:\n",
    "\n",
    "# vec = ...\n",
    "# vec = {'rows':3, 'cols':1, 'data':[[1],\n",
    "#                                    [2],\n",
    "#                                    [3]]}\n",
    "\n",
    "vec = { 'rows':3, 'cols':1, 'data': [1,2,3]}                        \n",
    "\n",
    "# Can you print its dimensions? (rows, cols)\n",
    "\n",
    "# ...\n",
    "print(\"rows: \", vec['rows'])\n",
    "print(\"cols: \", vec['cols'])\n",
    "\n",
    "# Can you print the number of elements?\n",
    "\n",
    "# ...\n",
    "print(\"elements\", vec['data'])\n",
    "print(len(vec[\"data\"]))"
   ]
  },
  {
   "cell_type": "markdown",
   "id": "8de02084",
   "metadata": {},
   "source": [
    "### 3. Vectoren optellen**"
   ]
  },
  {
   "cell_type": "markdown",
   "id": "c2edbb39",
   "metadata": {},
   "source": [
    "Tel de onderstaande vectoren bij elkaar op:\n",
    "\n",
    "$$\n",
    "  \\begin{pmatrix}\n",
    "    1 \\\\\n",
    "    2 \\\\\n",
    "    3\n",
    "  \\end{pmatrix}\n",
    "  +\n",
    "    \\begin{pmatrix}\n",
    "    9 \\\\\n",
    "    8 \\\\\n",
    "    7\n",
    "  \\end{pmatrix}\n",
    "  =\n",
    "  ...\n",
    "$$"
   ]
  },
  {
   "cell_type": "code",
   "execution_count": 2,
   "id": "9fd6bc2a",
   "metadata": {},
   "outputs": [
    {
     "name": "stdout",
     "output_type": "stream",
     "text": [
      "True\n",
      "{'row': 3, 'cols': 1, 'data': [10, 10, 10]}\n"
     ]
    }
   ],
   "source": [
    "# Implement both vectors:\n",
    "\n",
    "# vec1 = ...\n",
    "vec1 = { 'rows':3, 'cols':1, 'data': [1,2,3]}\n",
    "# vec2 = ...\n",
    "vec2 = { 'rows':3, 'cols':1, 'data': [9,8,7]}\n",
    "\n",
    "\n",
    "\n",
    "# Can we add them? Check if dimensions are the same:\n",
    "\n",
    "# ...\n",
    "if  vec1['rows'] == vec2['rows'] and vec1['cols'] == vec2['cols']:\n",
    "    print('True')\n",
    "else:\n",
    "    print('False')\n",
    "              \n",
    "               \n",
    "\n",
    "            \n",
    "\n",
    "# How do you add these vectors by hand?\n",
    "\n",
    "# ...1+9 = 10\n",
    "    # 2+8 = 10\n",
    "     #3+7 = 10 \n",
    "# Now add the vectors in code:\n",
    "\n",
    "# ...\n",
    "vec_sum = {'row':3, 'cols':1, 'data':[0,0,0]}\n",
    "vec_sum['data'][0] = vec1['data'][0] + vec2['data'][0]\n",
    "vec_sum['data'][1] = vec1['data'][1] + vec2['data'][1]\n",
    "vec_sum['data'][2] = vec1['data'][2] + vec2['data'][2]\n",
    "print(vec_sum)\n"
   ]
  },
  {
   "cell_type": "markdown",
   "id": "10e3be49",
   "metadata": {},
   "source": [
    "Tel de onderstaande vectoren bij elkaar op:\n",
    "\n",
    "$$\n",
    "  \\begin{pmatrix}\n",
    "    1 & 2 & 3\n",
    "  \\end{pmatrix}\n",
    "  +\n",
    "  \\begin{pmatrix}\n",
    "    9 & 8 & 7\n",
    "  \\end{pmatrix}\n",
    "  =\n",
    "  ...\n",
    "$$"
   ]
  },
  {
   "cell_type": "code",
   "execution_count": 4,
   "id": "3319db0c",
   "metadata": {},
   "outputs": [],
   "source": [
    "# Implement both vectors:\n",
    "\n",
    "# vec1 = ...\n",
    "# vec2 = ...\n",
    "\n",
    "# Can we add them? Check if dimensions are the same:\n",
    "\n",
    "# ...\n",
    "\n",
    "# How do you add these vectors by hand?\n",
    "\n",
    "# ...\n",
    "\n",
    "# Now add the vectors in code:\n",
    "\n",
    "# ..."
   ]
  },
  {
   "cell_type": "markdown",
   "id": "ecf7d53a",
   "metadata": {},
   "source": [
    "## Matrices"
   ]
  },
  {
   "cell_type": "markdown",
   "id": "aea58d0c",
   "metadata": {},
   "source": [
    "### 1. Een 3 x 3 matrix*"
   ]
  },
  {
   "cell_type": "markdown",
   "id": "8ecdf748",
   "metadata": {},
   "source": [
    "Representeer de onderstaande matrix in code:\n",
    "\n",
    "$$\n",
    "  \\begin{pmatrix}\n",
    "    1 & 2 & 3\\\\\n",
    "    4 & 5 & 6\\\\\n",
    "    7 & 8 & 9\\\\\n",
    "  \\end{pmatrix}\n",
    "$$"
   ]
  },
  {
   "cell_type": "code",
   "execution_count": 5,
   "id": "744a8d77",
   "metadata": {},
   "outputs": [],
   "source": [
    "# How many rows and colums does this matrix have?\n",
    "\n",
    "# ...\n",
    "\n",
    "# Use the definition at the top to implement this matrix:\n",
    "\n",
    "# mat = ...\n",
    "\n",
    "# Can you print its dimensions? (rows, cols)\n",
    "\n",
    "# ...\n",
    "\n",
    "# Can you print the number of elements?\n",
    "\n",
    "# ..."
   ]
  },
  {
   "cell_type": "markdown",
   "id": "78d195fb",
   "metadata": {},
   "source": [
    "### 2. Matrices optellen**"
   ]
  },
  {
   "cell_type": "markdown",
   "id": "1554b6d8",
   "metadata": {},
   "source": [
    "Tel de onderstaande matrices op:\n",
    "\n",
    "$$\n",
    "  \\begin{pmatrix}\n",
    "    1 & 2 & 3\\\\\n",
    "    4 & 5 & 6\\\\\n",
    "    7 & 8 & 9\\\\\n",
    "  \\end{pmatrix}\n",
    "  +\n",
    "    \\begin{pmatrix}\n",
    "    9 & 8 & 7\\\\\n",
    "    6 & 5 & 4\\\\\n",
    "    3 & 2 & 1\\\\\n",
    "  \\end{pmatrix}\n",
    "  =\n",
    "  ...\n",
    "$$"
   ]
  },
  {
   "cell_type": "code",
   "execution_count": null,
   "id": "ac6bd48c",
   "metadata": {},
   "outputs": [],
   "source": [
    "# Implement both matrices:\n",
    "\n",
    "# mat1 = ...\n",
    "# mat2 = ...\n",
    "\n",
    "# Can we add them? Check if dimensions are the same:\n",
    "\n",
    "# ...\n",
    "\n",
    "# How do you add these matrices by hand?\n",
    "\n",
    "# ...\n",
    "\n",
    "# Now add the matrices in code:\n",
    "\n",
    "# ...\n",
    "\n",
    "# In case you didn't: can you generalize this algorithm?\n",
    "\n",
    "# ..."
   ]
  },
  {
   "cell_type": "markdown",
   "id": "7bff9837",
   "metadata": {},
   "source": [
    "### 3. Matrices vermenigvuldigen***"
   ]
  },
  {
   "cell_type": "markdown",
   "id": "4dba734d",
   "metadata": {},
   "source": [
    "Vermenigvuldig de onderstaande matrices:\n",
    "\n",
    "$$\n",
    "  \\begin{pmatrix}\n",
    "    1 & 2 & 3\\\\\n",
    "    4 & 5 & 6\n",
    "  \\end{pmatrix}\n",
    "  *\n",
    "    \\begin{pmatrix}\n",
    "    9 & 8\\\\\n",
    "    6 & 5\\\\\n",
    "    3 & 2\\\\\n",
    "  \\end{pmatrix}\n",
    "  =\n",
    "  ...\n",
    "$$"
   ]
  },
  {
   "cell_type": "code",
   "execution_count": 7,
   "id": "9895aaab",
   "metadata": {},
   "outputs": [],
   "source": [
    "# Implement both matrices:\n",
    "\n",
    "# mat1 = ...\n",
    "# mat2 = ...\n",
    "\n",
    "# Can we multiply them? Check if dimensions satisfy the (M by N) * (N by K) = (M by K) rule:\n",
    "\n",
    "# ...\n",
    "\n",
    "# How do you multiply these matrices by hand?\n",
    "\n",
    "# ...\n",
    "\n",
    "# Now multiply the matrices in code:\n",
    "\n",
    "# ...\n",
    "\n",
    "# In case you didn't: can you generalize this algorithm?\n",
    "\n",
    "# ..."
   ]
  }
 ],
 "metadata": {
  "kernelspec": {
   "display_name": "Python 3 (ipykernel)",
   "language": "python",
   "name": "python3"
  },
  "language_info": {
   "codemirror_mode": {
    "name": "ipython",
    "version": 3
   },
   "file_extension": ".py",
   "mimetype": "text/x-python",
   "name": "python",
   "nbconvert_exporter": "python",
   "pygments_lexer": "ipython3",
   "version": "3.10.10"
  }
 },
 "nbformat": 4,
 "nbformat_minor": 5
}
